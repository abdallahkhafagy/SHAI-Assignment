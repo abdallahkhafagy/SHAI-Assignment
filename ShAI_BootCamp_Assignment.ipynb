{
 "cells": [
  {
   "cell_type": "markdown",
   "metadata": {
    "id": "9veqgG-LVKd3"
   },
   "source": [
    "#About Dataset\n",
    "salaries dataset generally provides information about the employees of an organization in relation to their compensation. It typically includes details such as how much each employee is paid (their salary), their job titles, the departments they work in, and possibly additional information like their level of experience, education, and employment history within the organization."
   ]
  },
  {
   "cell_type": "markdown",
   "metadata": {
    "id": "cZwHdpBfVzOh"
   },
   "source": [
    "# Features\n",
    "- 'Id'\n",
    "- 'EmployeeName'\n",
    "- 'JobTitle'\n",
    "- 'BasePay'\n",
    "- 'OvertimePay'\n",
    "- 'OtherPay'\n",
    "- 'Benefits'\n",
    "- 'TotalPay' -> salary\n",
    "- 'TotalPayBenefits'\n",
    "- 'Year'\n",
    "- 'Notes'\n",
    "- 'Agency'\n",
    "- 'Status'\n"
   ]
  },
  {
   "cell_type": "markdown",
   "metadata": {
    "id": "X1VJposzVrSF"
   },
   "source": [
    "# Tasks\n",
    "\n",
    "1. **Basic Data Exploration**: Identify the number of rows and columns in the dataset, determine the data types of each column, and check for missing values in each column.\n",
    "\n",
    "2. **Descriptive Statistics**: Calculate basic statistics mean, median, mode, minimum, and maximum salary, determine the range of salaries, and find the standard deviation.\n",
    "\n",
    "3. **Data Cleaning**: Handle missing data by suitable method with explain why you use it.\n",
    "\n",
    "4. **Basic Data Visualization**: Create histograms or bar charts to visualize the distribution of salaries, and use pie charts to represent the proportion of employees in different departments.\n",
    "\n",
    "5. **Grouped Analysis**: Group the data by one or more columns and calculate summary statistics for each group, and compare the average salaries across different groups.\n",
    "\n",
    "6. **Simple Correlation Analysis**: Identify any correlation between salary and another numerical column, and plot a scatter plot to visualize the relationship.\n",
    "\n",
    "8. **Summary of Insights**: Write a brief report summarizing the findings and insights from the analyses."
   ]
  },
  {
   "cell_type": "markdown",
   "metadata": {
    "id": "8_rNdHiGUT6A"
   },
   "source": [
    "# Very Important Note\n",
    "There is no fixed or singular solution for this assignment, so if anything is not clear, please do what you understand and provide an explanation."
   ]
  },
  {
   "cell_type": "markdown",
   "metadata": {
    "id": "HE9jbRjcUyoX"
   },
   "source": [
    "# Good Luck!"
   ]
  },
  {
   "cell_type": "code",
   "execution_count": 122,
   "metadata": {
    "colab": {
     "base_uri": "https://localhost:8080/",
     "height": 486
    },
    "id": "KmZfk5xkXI2y",
    "outputId": "e77ffddb-f533-4bac-d15a-3ea9f42b7890"
   },
   "outputs": [
    {
     "data": {
      "text/html": [
       "<div>\n",
       "<style scoped>\n",
       "    .dataframe tbody tr th:only-of-type {\n",
       "        vertical-align: middle;\n",
       "    }\n",
       "\n",
       "    .dataframe tbody tr th {\n",
       "        vertical-align: top;\n",
       "    }\n",
       "\n",
       "    .dataframe thead th {\n",
       "        text-align: right;\n",
       "    }\n",
       "</style>\n",
       "<table border=\"1\" class=\"dataframe\">\n",
       "  <thead>\n",
       "    <tr style=\"text-align: right;\">\n",
       "      <th></th>\n",
       "      <th>Id</th>\n",
       "      <th>EmployeeName</th>\n",
       "      <th>JobTitle</th>\n",
       "      <th>BasePay</th>\n",
       "      <th>OvertimePay</th>\n",
       "      <th>OtherPay</th>\n",
       "      <th>Benefits</th>\n",
       "      <th>TotalPay</th>\n",
       "      <th>TotalPayBenefits</th>\n",
       "      <th>Year</th>\n",
       "      <th>Notes</th>\n",
       "      <th>Agency</th>\n",
       "      <th>Status</th>\n",
       "    </tr>\n",
       "  </thead>\n",
       "  <tbody>\n",
       "    <tr>\n",
       "      <th>0</th>\n",
       "      <td>1</td>\n",
       "      <td>NATHANIEL FORD</td>\n",
       "      <td>GENERAL MANAGER-METROPOLITAN TRANSIT AUTHORITY</td>\n",
       "      <td>167411.18</td>\n",
       "      <td>0.00</td>\n",
       "      <td>400184.25</td>\n",
       "      <td>NaN</td>\n",
       "      <td>567595.43</td>\n",
       "      <td>567595.43</td>\n",
       "      <td>2011</td>\n",
       "      <td>NaN</td>\n",
       "      <td>San Francisco</td>\n",
       "      <td>NaN</td>\n",
       "    </tr>\n",
       "    <tr>\n",
       "      <th>1</th>\n",
       "      <td>2</td>\n",
       "      <td>GARY JIMENEZ</td>\n",
       "      <td>CAPTAIN III (POLICE DEPARTMENT)</td>\n",
       "      <td>155966.02</td>\n",
       "      <td>245131.88</td>\n",
       "      <td>137811.38</td>\n",
       "      <td>NaN</td>\n",
       "      <td>538909.28</td>\n",
       "      <td>538909.28</td>\n",
       "      <td>2011</td>\n",
       "      <td>NaN</td>\n",
       "      <td>San Francisco</td>\n",
       "      <td>NaN</td>\n",
       "    </tr>\n",
       "    <tr>\n",
       "      <th>2</th>\n",
       "      <td>3</td>\n",
       "      <td>ALBERT PARDINI</td>\n",
       "      <td>CAPTAIN III (POLICE DEPARTMENT)</td>\n",
       "      <td>212739.13</td>\n",
       "      <td>106088.18</td>\n",
       "      <td>16452.60</td>\n",
       "      <td>NaN</td>\n",
       "      <td>335279.91</td>\n",
       "      <td>335279.91</td>\n",
       "      <td>2011</td>\n",
       "      <td>NaN</td>\n",
       "      <td>San Francisco</td>\n",
       "      <td>NaN</td>\n",
       "    </tr>\n",
       "    <tr>\n",
       "      <th>3</th>\n",
       "      <td>4</td>\n",
       "      <td>CHRISTOPHER CHONG</td>\n",
       "      <td>WIRE ROPE CABLE MAINTENANCE MECHANIC</td>\n",
       "      <td>77916.00</td>\n",
       "      <td>56120.71</td>\n",
       "      <td>198306.90</td>\n",
       "      <td>NaN</td>\n",
       "      <td>332343.61</td>\n",
       "      <td>332343.61</td>\n",
       "      <td>2011</td>\n",
       "      <td>NaN</td>\n",
       "      <td>San Francisco</td>\n",
       "      <td>NaN</td>\n",
       "    </tr>\n",
       "    <tr>\n",
       "      <th>4</th>\n",
       "      <td>5</td>\n",
       "      <td>PATRICK GARDNER</td>\n",
       "      <td>DEPUTY CHIEF OF DEPARTMENT,(FIRE DEPARTMENT)</td>\n",
       "      <td>134401.60</td>\n",
       "      <td>9737.00</td>\n",
       "      <td>182234.59</td>\n",
       "      <td>NaN</td>\n",
       "      <td>326373.19</td>\n",
       "      <td>326373.19</td>\n",
       "      <td>2011</td>\n",
       "      <td>NaN</td>\n",
       "      <td>San Francisco</td>\n",
       "      <td>NaN</td>\n",
       "    </tr>\n",
       "  </tbody>\n",
       "</table>\n",
       "</div>"
      ],
      "text/plain": [
       "   Id       EmployeeName                                        JobTitle  \\\n",
       "0   1     NATHANIEL FORD  GENERAL MANAGER-METROPOLITAN TRANSIT AUTHORITY   \n",
       "1   2       GARY JIMENEZ                 CAPTAIN III (POLICE DEPARTMENT)   \n",
       "2   3     ALBERT PARDINI                 CAPTAIN III (POLICE DEPARTMENT)   \n",
       "3   4  CHRISTOPHER CHONG            WIRE ROPE CABLE MAINTENANCE MECHANIC   \n",
       "4   5    PATRICK GARDNER    DEPUTY CHIEF OF DEPARTMENT,(FIRE DEPARTMENT)   \n",
       "\n",
       "     BasePay  OvertimePay   OtherPay  Benefits   TotalPay  TotalPayBenefits  \\\n",
       "0  167411.18         0.00  400184.25       NaN  567595.43         567595.43   \n",
       "1  155966.02    245131.88  137811.38       NaN  538909.28         538909.28   \n",
       "2  212739.13    106088.18   16452.60       NaN  335279.91         335279.91   \n",
       "3   77916.00     56120.71  198306.90       NaN  332343.61         332343.61   \n",
       "4  134401.60      9737.00  182234.59       NaN  326373.19         326373.19   \n",
       "\n",
       "   Year  Notes         Agency  Status  \n",
       "0  2011    NaN  San Francisco     NaN  \n",
       "1  2011    NaN  San Francisco     NaN  \n",
       "2  2011    NaN  San Francisco     NaN  \n",
       "3  2011    NaN  San Francisco     NaN  \n",
       "4  2011    NaN  San Francisco     NaN  "
      ]
     },
     "execution_count": 122,
     "metadata": {},
     "output_type": "execute_result"
    }
   ],
   "source": [
    "#import libraries\n",
    "import pandas as pd\n",
    "import numpy as np\n",
    "import matplotlib.pyplot as plt\n",
    "import seaborn as sns\n",
    "\n",
    "\n",
    "# Load your dataset\n",
    "df = pd.read_csv('Salaries.csv')\n",
    "df.head()\n"
   ]
  },
  {
   "cell_type": "markdown",
   "metadata": {},
   "source": [
    "# 1. Basic Data Exploration\n",
    " 1- using shape we can know the exact count of rows and columns of the dataframe containing the dataset.\n",
    " 2- using df.columns attribute we can extract the column names of our dataset\n",
    " 3- using the .dtypes attribute we get the information abount each column datatype\n",
    " 4-we can get the number of null rows for each column using two methods :\n",
    "             a-  we can use the isnull() function which produce a boolean array for all the columns indicating the null values                  then using the .sum() function will get the exact count of the null values\n",
    "             b- using the .info() function some statistics about the null values and the columns datatypes appear"
   ]
  },
  {
   "cell_type": "code",
   "execution_count": 123,
   "metadata": {
    "colab": {
     "base_uri": "https://localhost:8080/"
    },
    "id": "xIT514wlvvBZ",
    "outputId": "9ecf152c-554a-4cf6-d667-efc95c16d489"
   },
   "outputs": [
    {
     "name": "stdout",
     "output_type": "stream",
     "text": [
      "(148654, 13)\n",
      "###################################### COLUMN NAMES ###############################\n",
      "\n",
      "\n",
      "Index(['Id', 'EmployeeName', 'JobTitle', 'BasePay', 'OvertimePay', 'OtherPay',\n",
      "       'Benefits', 'TotalPay', 'TotalPayBenefits', 'Year', 'Notes', 'Agency',\n",
      "       'Status'],\n",
      "      dtype='object') \n",
      "\n",
      "###################################### COLUMN Data Types ###############################\n",
      "\n",
      "\n",
      "Id                    int64\n",
      "EmployeeName         object\n",
      "JobTitle             object\n",
      "BasePay             float64\n",
      "OvertimePay         float64\n",
      "OtherPay            float64\n",
      "Benefits            float64\n",
      "TotalPay            float64\n",
      "TotalPayBenefits    float64\n",
      "Year                  int64\n",
      "Notes               float64\n",
      "Agency               object\n",
      "Status              float64\n",
      "dtype: object \n",
      "\n",
      "###################################### NULL Values ###############################\n",
      "\n",
      "\n",
      "Id                       0\n",
      "EmployeeName             0\n",
      "JobTitle                 0\n",
      "BasePay                609\n",
      "OvertimePay              4\n",
      "OtherPay                 4\n",
      "Benefits             36163\n",
      "TotalPay                 0\n",
      "TotalPayBenefits         0\n",
      "Year                     0\n",
      "Notes               148654\n",
      "Agency                   0\n",
      "Status              148654\n",
      "dtype: int64\n",
      "<class 'pandas.core.frame.DataFrame'>\n",
      "RangeIndex: 148654 entries, 0 to 148653\n",
      "Data columns (total 13 columns):\n",
      " #   Column            Non-Null Count   Dtype  \n",
      "---  ------            --------------   -----  \n",
      " 0   Id                148654 non-null  int64  \n",
      " 1   EmployeeName      148654 non-null  object \n",
      " 2   JobTitle          148654 non-null  object \n",
      " 3   BasePay           148045 non-null  float64\n",
      " 4   OvertimePay       148650 non-null  float64\n",
      " 5   OtherPay          148650 non-null  float64\n",
      " 6   Benefits          112491 non-null  float64\n",
      " 7   TotalPay          148654 non-null  float64\n",
      " 8   TotalPayBenefits  148654 non-null  float64\n",
      " 9   Year              148654 non-null  int64  \n",
      " 10  Notes             0 non-null       float64\n",
      " 11  Agency            148654 non-null  object \n",
      " 12  Status            0 non-null       float64\n",
      "dtypes: float64(8), int64(2), object(3)\n",
      "memory usage: 14.7+ MB\n",
      "None\n"
     ]
    }
   ],
   "source": [
    "#get columns and put then in the variable \"column_names\"\n",
    "column_names = df.columns\n",
    "\n",
    "\n",
    "#print the shape of the dataset which contains the number of rows and columns\n",
    "print('###################################### Data  Count ###############################\\n\\n')\n",
    "\n",
    "print(df.shape)\n",
    "\n",
    "\n",
    "#print the column names\n",
    "print('###################################### COLUMN NAMES ###############################\\n\\n')\n",
    "print(column_names,'\\n')\n",
    "\n",
    "\n",
    "#print the list with coulmn data types\n",
    "print('###################################### COLUMN Data Types ###############################\\n\\n')\n",
    "print(df.dtypes,'\\n')\n",
    "\n",
    "\n",
    "#get the number of null values for each column\n",
    "print('###################################### NULL Values ###############################\\n\\n')\n",
    "#calculating the null values by using the is null to create a boolean array with null values then sum to get the total count\n",
    "print(df[column_names].isnull().sum())\n",
    "\n",
    "#another way to identify the null ratio for each column\n",
    "print(df.info())"
   ]
  },
  {
   "cell_type": "markdown",
   "metadata": {},
   "source": [
    "# 2. Descriptive Statistics"
   ]
  },
  {
   "cell_type": "code",
   "execution_count": 134,
   "metadata": {
    "id": "bbIN2ujHUyRx"
   },
   "outputs": [
    {
     "name": "stdout",
     "output_type": "stream",
     "text": [
      "########################## Basic Statistics (mean, standard deviation, min, max, mode, range) ####################\n",
      "\n",
      "\n",
      "             BasePay    OvertimePay       OtherPay       Benefits  \\\n",
      "count  148650.000000  148650.000000  148650.000000  148650.000000   \n",
      "mean    66055.506718    5066.059886    3648.767297   18924.742068   \n",
      "std     42885.919334   11454.380559    8056.601866   17165.229731   \n",
      "min      -166.010000      -0.010000   -7058.590000     -33.890000   \n",
      "25%     32798.550000       0.000000       0.000000       0.000000   \n",
      "50%     64862.310000       0.000000     811.270000   23217.135000   \n",
      "75%     94609.715000    4658.175000    4236.065000   33468.980000   \n",
      "max    319275.010000  245131.880000  400184.250000   96570.660000   \n",
      "mode        0.000000       0.000000       0.000000       0.000000   \n",
      "Range  319441.020000  245131.890000  407242.840000   96604.550000   \n",
      "\n",
      "            TotalPay  TotalPayBenefits  \n",
      "count  148650.000000     148650.000000  \n",
      "mean    74770.333901      93695.075969  \n",
      "std     50516.196009      62792.497391  \n",
      "min      -618.130000       -618.130000  \n",
      "25%     36169.955000      44073.337500  \n",
      "50%     71427.240000      92406.020000  \n",
      "75%    105842.960000     132877.992500  \n",
      "max    567595.430000     567595.430000  \n",
      "mode        0.000000       7959.180000  \n",
      "Range  568213.560000     568213.560000   \n",
      "\n",
      "\n",
      "###################################### Salary Range (TotalPay) ###############################\n",
      "\n",
      "\n",
      "568213.56\n"
     ]
    }
   ],
   "source": [
    "desc_cols = ['BasePay', 'OvertimePay', 'OtherPay',\n",
    "       'Benefits', 'TotalPay', 'TotalPayBenefits']\n",
    "\n",
    "#using the describe method creates a dataset where mean, min, max, standard deviation and quantiles are calculated\n",
    "desc = df[des_cols].describe()\n",
    "\n",
    "\n",
    "'''\n",
    "#d = des_col.agg('mode')\n",
    "#d.rename(index={0:'mode'},inplace=True)\n",
    "#des = des.append( d)\n",
    "\n",
    "#print(df[des_cols].agg('mode').loc[0])\n",
    "'''\n",
    "#calculating mode and adding it to the table with the remaining statistics\n",
    "desc.loc['mode'] = df[des_cols].agg('mode').loc[0]\n",
    "\n",
    "\n",
    "#calculating the range for all columns and adding it to the table with remaining statistics\n",
    "desc.loc['Range'] = des.loc['max'] - des.loc['min']\n",
    "\n",
    "\n",
    "print('########################## Basic Statistics (mean, standard deviation, min, max, mode, range) ####################\\n\\n')\n",
    "#printing descriptive statistics\n",
    "print(desc,'\\n\\n')\n",
    "\n",
    "print('###################################### Salary Range (TotalPay) ###############################\\n\\n')\n",
    "\n",
    "#printing the range for the salary alone\n",
    "print(desc['TotalPay'].loc['Range'])"
   ]
  },
  {
   "cell_type": "markdown",
   "metadata": {},
   "source": [
    "# 3. Data Cleaning"
   ]
  },
  {
   "cell_type": "code",
   "execution_count": 125,
   "metadata": {
    "id": "_dovy31FUyUF"
   },
   "outputs": [
    {
     "data": {
      "text/plain": [
       "Id                  0\n",
       "EmployeeName        0\n",
       "JobTitle            0\n",
       "BasePay             0\n",
       "OvertimePay         0\n",
       "OtherPay            0\n",
       "Benefits            0\n",
       "TotalPay            0\n",
       "TotalPayBenefits    0\n",
       "Year                0\n",
       "Agency              0\n",
       "dtype: int64"
      ]
     },
     "execution_count": 125,
     "metadata": {},
     "output_type": "execute_result"
    }
   ],
   "source": [
    "'''\n",
    "remove the columns Notes & Status as the null \n",
    "values are 100% which means that the whole column is not useful\n",
    "'''\n",
    "#drop notes and status columns which have a 100% null ratio\n",
    "df.drop(['Status','Notes'] ,axis=1,inplace=True)\n",
    "\n",
    "\n",
    "df[df['Benefits'].isnull()]['Benefits']\n",
    "df[df['BasePay'].isnull()]['BasePay']\n",
    "\n",
    "#we can see that the mode for these columns are 0 so we will replace them with the mode (they are also not huge so we can just remove them)\n",
    "df['Benefits'].fillna(df['Benefits'].mode()[0],inplace=True)\n",
    "df['BasePay'].fillna(df['BasePay'].mode()[0],inplace=True)\n",
    "\n",
    "\n",
    "'''\n",
    "after investigation for the null values we find there are 4 rows with no data at all\n",
    "which will not be benificial so we can just drop them\n",
    "'''\n",
    "df[df['OvertimePay'].isnull()]\n",
    "df[df['OtherPay'].isnull()]\n",
    "\n",
    "#drop the 4 rows with unprovided data\n",
    "df.dropna(axis=0,inplace = True)\n",
    "df.reset_index()\n",
    "df.isnull().sum()"
   ]
  },
  {
   "cell_type": "markdown",
   "metadata": {},
   "source": [
    "# 4. Basic Data Visualization"
   ]
  },
  {
   "cell_type": "code",
   "execution_count": 126,
   "metadata": {},
   "outputs": [
    {
     "data": {
      "image/png": "[encoded data removed]",
      "text/plain": [
       "<Figure size 432x288 with 1 Axes>"
      ]
     },
     "metadata": {
      "needs_background": "light"
     },
     "output_type": "display_data"
    }
   ],
   "source": [
    "#histogram of salaries\n",
    "# plot:\n",
    "fig, ax = plt.subplots()\n",
    "y = df['TotalPay']\n",
    "\n",
    "\n",
    "data_bins = np.arange(0,600000,10000)\n",
    "\n",
    "plt.hist(df['TotalPay'], bins=60, edgecolor=\"black\")\n",
    "ax.set_title(\"Salary Histogram\") \n",
    "\n",
    "\n",
    "# adding labels \n",
    "ax.set_xlabel('Salary') \n",
    "ax.set_ylabel('COUNT') \n",
    "\n",
    "plt.show()\n"
   ]
  },
  {
   "cell_type": "code",
   "execution_count": 127,
   "metadata": {},
   "outputs": [],
   "source": [
    "#pie chart\n",
    "\n",
    "'''\n",
    "fig = plt.gcf()\n",
    "fig.set_size_inches(200,200) # or (4,4) or (5,5) or whatever\n",
    "df['JobTitle'] = df['JobTitle'].str.upper() \n",
    "df2 = df.groupby(['JobTitle'])['JobTitle'].count()\n",
    "\n",
    "sal[sal['Year'] == 2013]['JobTitle'].nunique()\n",
    "\n",
    "\n",
    "\n",
    "plt.pie(df2, autopct='%1.1f%%')\n",
    "plt.show()\n",
    "'''\n",
    "#too many values for pie chart\n",
    "#looking at the values there's a lot of duplicates and similar values that could be combined\n",
    "#df['JobTitle'] = df['JobTitle'].str.replace('1', '').replace('I', '').replace('II', '').replace('III', '').replace('IV', '').strip()\n",
    "#tried using fuzzy logic but the numbers is still too large\n",
    "#some job titles has deartment value so will use that instead\n",
    "df['JobTitle'] = df['JobTitle'].str.upper()\n",
    "df['JobTitle'] = df['JobTitle'].str.replace(\" \\(\",\" ,(\")\n",
    "df['JobTitle'] = df['JobTitle'].str.replace(', ,',',')\n",
    "#for i in df.loc[df['JobTitle'].str.contains('DEPARTMENT\\)')]['JobTitle']:\n",
    "#    print(i)\n",
    "#df\n",
    "\n",
    "#df.loc[df['JobTitle'].str.contains('DEPARTMENT\\)')]['JobTitle']['Department'] \n",
    "df[['Job','Department']] = df.loc[df['JobTitle'].str.contains('DEPARTMENT\\)')]['JobTitle'].str.split(',\\(',expand=True)\n",
    "df['Department'] = df['Department'].str.replace(')','')\n",
    "#df['Department'].fillna('UNKNOWN',inplace=True)\n",
    "df['Job'] = df['Job'].str.strip()\n"
   ]
  },
  {
   "cell_type": "code",
   "execution_count": 128,
   "metadata": {},
   "outputs": [
    {
     "data": {
      "image/png": "[encoded data removed]",
      "text/plain": [
       "<Figure size 432x288 with 1 Axes>"
      ]
     },
     "metadata": {},
     "output_type": "display_data"
    }
   ],
   "source": [
    "#df[['Job','Department']] = df.loc[df['JobTitle'].str.contains('DEPARTMENT\\)')]['JobTitle'].str.split(',\\(',expand=True)\n",
    "#Dep_dict[df['Job']]\n",
    "\n",
    "plt.pie(df['Department'].value_counts(),labels=df['Department'].value_counts().keys(), autopct='%1.1f%%')\n",
    "plt.show()\n"
   ]
  },
  {
   "cell_type": "code",
   "execution_count": 66,
   "metadata": {},
   "outputs": [
    {
     "data": {
      "text/plain": [
       "\"\\nfor i in df['JobTitle'].sort_values().unique():\\n    dups = (\\n    process.extractBests(\\n    i,\\n        df['JobTitle']\\n    ,score_cutoff=90,\\n                                  limit=None\\n))\\n    dup_vals =   [x[0] for x in dups]\\n    df['JobTitle'] = df['JobTitle'].replace(dup_vals, i) \\n    print(i)\\n\""
      ]
     },
     "execution_count": 66,
     "metadata": {},
     "output_type": "execute_result"
    }
   ],
   "source": [
    "'''\n",
    "for i in df['JobTitle'].sort_values().unique():\n",
    "    dups = (\n",
    "    process.extractBests(\n",
    "    i,\n",
    "        df['JobTitle']\n",
    "    ,score_cutoff=90,\n",
    "                                  limit=None\n",
    "))\n",
    "    dup_vals =   [x[0] for x in dups]\n",
    "    df['JobTitle'] = df['JobTitle'].replace(dup_vals, i) \n",
    "    print(i)\n",
    "'''"
   ]
  },
  {
   "cell_type": "code",
   "execution_count": null,
   "metadata": {},
   "outputs": [],
   "source": []
  },
  {
   "cell_type": "code",
   "execution_count": 47,
   "metadata": {},
   "outputs": [
    {
     "data": {
      "text/plain": [
       "\"\\ndf2 = df.groupby(['JobTitle'])\\ndf2.groups.keys()\\ndf2['JobTitle'].count()\\n\\n\\nplt.pie(df2['JobTitle'].count(),labels=df2.groups.keys(), autopct='%1.1f%%')\\nplt.show()\\nplot = df.plot.pie(y='JobTitle', figsize=(5, 5))\\n\\n\""
      ]
     },
     "execution_count": 47,
     "metadata": {},
     "output_type": "execute_result"
    }
   ],
   "source": [
    "'''\n",
    "df2 = df.groupby(['JobTitle'])\n",
    "df2.groups.keys()\n",
    "df2['JobTitle'].count()\n",
    "\n",
    "\n",
    "plt.pie(df2['JobTitle'].count(),labels=df2.groups.keys(), autopct='%1.1f%%')\n",
    "plt.show()\n",
    "plot = df.plot.pie(y='JobTitle', figsize=(5, 5))\n",
    "\n",
    "'''"
   ]
  },
  {
   "cell_type": "markdown",
   "metadata": {},
   "source": [
    "# 5.Grouped Analysis"
   ]
  },
  {
   "cell_type": "code",
   "execution_count": 157,
   "metadata": {},
   "outputs": [
    {
     "name": "stdout",
     "output_type": "stream",
     "text": [
      "JobTitle\n",
      "ACCOUNT CLERK                                     43009.395299\n",
      "ACCOUNTANT                                        47429.268000\n",
      "ACCOUNTANT I                                      62036.101250\n",
      "ACCOUNTANT II                                     67355.202699\n",
      "ACCOUNTANT III                                    79001.071547\n",
      "                                                      ...     \n",
      "WORKER'S COMPENSATION SUPERVISOR I                91020.726000\n",
      "X-RAY LABORATORY AIDE                             51212.279048\n",
      "YOUTH COMM ADVISOR                                41414.307500\n",
      "YOUTH COMMISSION ADVISOR, BOARD OF SUPERVISORS    53632.870000\n",
      "ZOO CURATOR                                       66686.560000\n",
      "Name: TotalPay, Length: 1636, dtype: float64\n"
     ]
    }
   ],
   "source": [
    "#display the mean for all numerical (income) variables\n",
    "grouped_df = df.groupby(['JobTitle']).mean()\n",
    "print(grouped_df['TotalPay'])"
   ]
  },
  {
   "cell_type": "markdown",
   "metadata": {},
   "source": [
    "# 6.Simple Correlation Analysis"
   ]
  },
  {
   "cell_type": "code",
   "execution_count": 144,
   "metadata": {},
   "outputs": [
    {
     "data": {
      "text/plain": [
       "BasePay             0.954690\n",
       "OvertimePay         0.504859\n",
       "OtherPay            0.470496\n",
       "Benefits            0.632187\n",
       "TotalPay            1.000000\n",
       "TotalPayBenefits    0.977312\n",
       "Name: TotalPay, dtype: float64"
      ]
     },
     "execution_count": 144,
     "metadata": {},
     "output_type": "execute_result"
    }
   ],
   "source": [
    "#correlation matrix showing the relation between salary and other variables\n",
    "df[desc_cols].corr()['TotalPay']"
   ]
  },
  {
   "cell_type": "code",
   "execution_count": 148,
   "metadata": {},
   "outputs": [
    {
     "data": {
      "image/png": "[encoded data removed]",
      "text/plain": [
       "<Figure size 288x288 with 1 Axes>"
      ]
     },
     "metadata": {
      "needs_background": "light"
     },
     "output_type": "display_data"
    }
   ],
   "source": [
    "###heat map to display the relationship between all variables\n",
    "plt.matshow(df[des_cols].corr())\n",
    "plt.show()"
   ]
  },
  {
   "cell_type": "code",
   "execution_count": 149,
   "metadata": {},
   "outputs": [
    {
     "data": {
      "text/plain": [
       "<matplotlib.axes._subplots.AxesSubplot at 0x216876f3e88>"
      ]
     },
     "execution_count": 149,
     "metadata": {},
     "output_type": "execute_result"
    },
    {
     "data": {
      "image/png": "[encoded data removed]",
      "text/plain": [
       "<Figure size 432x288 with 2 Axes>"
      ]
     },
     "metadata": {
      "needs_background": "light"
     },
     "output_type": "display_data"
    }
   ],
   "source": [
    "###heatmap between Salary and other variables\n",
    "sns.heatmap(df[des_cols].corr().loc[['TotalPay'],:])\n"
   ]
  },
  {
   "cell_type": "code",
   "execution_count": 153,
   "metadata": {},
   "outputs": [
    {
     "data": {
      "image/png": "[encoded data removed]",
      "text/plain": [
       "<Figure size 180x1080 with 6 Axes>"
      ]
     },
     "metadata": {
      "needs_background": "light"
     },
     "output_type": "display_data"
    }
   ],
   "source": [
    "###scatter plot between salary and all variables\n",
    "\n",
    "#sns.pairplot(df[des_cols])\n",
    "#sns.pairplot(df, y_vars=\"TotalPay\", x_vars=df.columns.values)\n",
    "pp = sns.pairplot(data=df,\n",
    "                  x_vars=['TotalPay'],\n",
    "                  y_vars=desc_cols)\n"
   ]
  },
  {
   "cell_type": "markdown",
   "metadata": {},
   "source": [
    "# Summary of Insights"
   ]
  },
  {
   "cell_type": "code",
   "execution_count": null,
   "metadata": {},
   "outputs": [],
   "source": [
    "#1.a we are able to identify the number of rows and data types using (shape, dtypes) attributes\n",
    "#1.b we can also find the information about the null values using either isnull followed by sum functions or by using .info() function\n",
    "\n",
    "\n",
    "\n",
    "#2.using the .describe() method we are able to get most of the statistics we need \n",
    "#2. WE ARE ABLE TO GET THE range using max - min on the result of describe\n",
    "#2. and we are able to get the mode using simply the mode() method and we are able to append both to the result of describe ()\n",
    "#2. looking at this data (mean, std , range) it seems there are a lot of contrast between the salaries for different jobs\n",
    "#2. and looking at the mode it looks that the most frequent value for most of the column is 0 which might mean there's a data issue or that they are underpaid jobs\n",
    "\n",
    "\n",
    "\n",
    "\n",
    "#3. since the columns \"Notes\" & \"Status\" are 100% null columns it makes sense to drop them completely \n",
    "#3. since the percentage of null values for the columns \"Benefits\" & \"BasePay\" we can just drop the null rows but i choose to replcae the null values with the mode since it is the mos occuring value\n",
    "#3. i could also see that there are 4 rows where there are no data provided at all so i chose to drop these rows since they are no so many and there's no useful data \n",
    "#3.\n",
    "\n",
    "\n",
    "\n",
    "\n",
    "#4.from the histogram of the salary it appeares that the salary distribution is skewed \n",
    "#4.and it seems that most salaries are either less than 20k or from 50k to 100k.\n",
    "#4.for the pie chart of Department it appears that no Department column was provided so i tried to use the Jobtitle column\n",
    "#4.but since there was too many values the pi chart was not very useful so i tried to use fuzzy matching to shrink down the count by standardizing similar jobs like accountant 1 & accountant 2\n",
    "#4.but the number of values was still too large so i extracted the Department from the JoTitles with \"Department)\" suffix and i found that there are two Department (Police & Fire) Departments with the majority of Dpartments as null with more than a 99%\n",
    "\n",
    "\n",
    "\n",
    "\n",
    "#5.group by and then the mean() function was used to get the average salary for each Job Title\n",
    "\n",
    "\n",
    "\n",
    "#6.to explore the relationship between salary and other variables in the dataset i used the correlation function which produced numbers between 0 to 1 indicating how close the relationship is \n",
    "#6.and also heatmap using the matshow or the heatmap function can help to visualise this relationship as a colored plot \n",
    "#6.using these information and alos the visual input from the scatter plot we can see that there are two variables that are highly correlated with the Salary variable which are \"BasePay\" & \"TotalPayBenefits\"\n",
    "\n",
    "\n"
   ]
  }
 ],
 "metadata": {
  "colab": {
   "provenance": []
  },
  "kernelspec": {
   "display_name": "Python 3",
   "language": "python",
   "name": "python3"
  },
  "language_info": {
   "codemirror_mode": {
    "name": "ipython",
    "version": 3
   },
   "file_extension": ".py",
   "mimetype": "text/x-python",
   "name": "python",
   "nbconvert_exporter": "python",
   "pygments_lexer": "ipython3",
   "version": "3.7.6"
  }
 },
 "nbformat": 4,
 "nbformat_minor": 1
}
